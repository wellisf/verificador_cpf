{
 "cells": [
  {
   "cell_type": "markdown",
   "metadata": {},
   "source": [
    "# Verificador de CPF\n",
    "\n",
    "## Etapas:\n",
    "###       - Primeira: Verificar se o CPF  informado contém todos os dígidos nem são repetidos\n",
    "###       - Segunda: Confirmar se o primeiro dígito do verificador está correto\n",
    "###       - Terceira: Confirmar se o segundo dígito do verificador está correto\n",
    "###       - Quarta: Validar o CPF\n",
    "###       - Quinta: Informar o estado emissor do CPF \n",
    "\n",
    "\n",
    "## pseudocódigo:\n",
    "https://www.geradorcpf.com/algoritmo_do_cpf.htm\n",
    "\n",
    "\n",
    "\n"
   ]
  },
  {
   "cell_type": "markdown",
   "metadata": {},
   "source": [
    "# Primeira etapa\n",
    "## Verificar se o CPF  informado contém todos os dígidos nem são repetidos"
   ]
  },
  {
   "cell_type": "code",
   "execution_count": 11,
   "metadata": {},
   "outputs": [],
   "source": [
    "def str_to_int(string) :\n",
    "    \n",
    "    vector = [0,0,0,0,0,0,0,0,0,0,0]\n",
    "    \n",
    "    for i in range( len(string) ):  \n",
    "        vector[i] = int (string[i])\n",
    "    \n",
    "    return vector"
   ]
  },
  {
   "cell_type": "code",
   "execution_count": 12,
   "metadata": {},
   "outputs": [],
   "source": [
    "### Utilizar no futuro a estrutura |thrown exception| \n",
    "\n",
    "def checkerCPF(cpf):\n",
    "    \n",
    "    checked = False\n",
    "    \n",
    "    # verificar se a string possui tamanho igual a 11\n",
    "    if (len(cpf) == 11) :\n",
    "        \n",
    "        # verificar se cpf não contém todos os valores idênticos\n",
    "        for i in range(11):  \n",
    "            if ( cpf[1] != cpf[i] ):\n",
    "                checked = True   \n",
    "    \n",
    "    return checked"
   ]
  },
  {
   "cell_type": "markdown",
   "metadata": {},
   "source": [
    "# Kernel \n",
    "## Segunda e a Terceira etapa"
   ]
  },
  {
   "cell_type": "code",
   "execution_count": 13,
   "metadata": {},
   "outputs": [],
   "source": [
    "import math\n",
    "\n",
    "def checked_digit(cpf,digito):\n",
    "    \n",
    "    sum = 0\n",
    "    \n",
    "    for i in range( 8 + digito):\n",
    "        \n",
    "        ######################## Primeiro Dígito\n",
    "        # Distribua os 9 primeiros dígitos em um quadro (Ex.: cpf[i]);\n",
    "        # Atribuindo pesos respectivos a eles: seguindo a fórmula: 8 + 1 - i;\n",
    "        # Multiplique os valores de cada coluna (Ex.: sum += (cpf[i] * (9 + 1 - i)))\n",
    "        # Esquematizando: \n",
    "            #             01\t01\t01\t04\t04\t04\t07\t07\t07\n",
    "            #          x  10\t09\t08\t07\t06\t05\t04\t03\t02\n",
    "            #             ------------------------------------\n",
    "            #             10\t09\t08\t28\t24\t20\t28\t21\t14\n",
    "            \n",
    "        ######################## Segundo Dígito\n",
    "        # Distribua os 10 primeiros dígitos em um quadro (Ex.: cpf[i]);\n",
    "        # Atribuindo pesos respectivos a eles: seguindo a fórmula: 8 + 2 - i;\n",
    "        # Multiplique os valores de cada coluna (Ex.: sum += (cpf[i] * (9 + 2- i)))\n",
    "        # Esquematizando: \n",
    "            #             01\t01\t01\t04\t04\t04\t07\t07\t07  03\n",
    "            #          x  11\t10\t09\t08\t07\t06\t05\t04\t03\t02\n",
    "            #             -----------------------------------------\n",
    "            #             11\t10\t09\t32\t28\t24\t35\t28\t21\t06\n",
    "    \n",
    "\n",
    "        sum += (cpf[i] * (9 + digito - i))\n",
    "    \n",
    "    # O somatório obtido será divido por 11 (Ex.: (sum/11))\n",
    "    # Considere como quociente apenas o valor inteiro, neste caso o quociente é: 14;\n",
    "    # O resto da divisão será responsável pelo cálculo do primeiro dígito verificador, \n",
    "    # neste caso o resto é: 727272727272727.\n",
    "    \n",
    "    sum /= 11\n",
    "    \n",
    "    # Se, o resto da divisão seja menor que 2, o primeiro dígito verificador se torna 0;\n",
    "    # Se não, subtrai-se do quociente o valor do resto da divisão aproximado para cima vezes 10 \n",
    "    # Ex.: quociente - (ceil(resto_divisão))*10\n",
    "    \n",
    "    quociente = int(sum) \n",
    "    resto_divisao = math.ceil((sum - quociente) * 10)\n",
    "    \n",
    "#     print('quociente =', quociente)\n",
    "#     print('resto da divisao =', resto_divisao)\n",
    "    \n",
    "    if ( resto_divisao < 2): \n",
    "        \n",
    "        return (0)\n",
    "    else:\n",
    "        return (11 - resto_divisao)"
   ]
  },
  {
   "cell_type": "markdown",
   "metadata": {},
   "source": [
    "# Quarta etapa: Main"
   ]
  },
  {
   "cell_type": "code",
   "execution_count": 14,
   "metadata": {},
   "outputs": [],
   "source": [
    "def verificador(cpf):\n",
    "    \n",
    "    checker = False\n",
    "    \n",
    "    if checkerCPF(cpf) :\n",
    "        \n",
    "        if ( (cpf[9] == checked_digit(cpf,1)) and (cpf[10] == checked_digit(cpf,2))) :\n",
    "            checker = True\n",
    "            \n",
    "    return checker"
   ]
  },
  {
   "cell_type": "markdown",
   "metadata": {},
   "source": [
    "# Quinta etapa\n",
    "## Informar o estado emissor do CPF, tal informação está disponível no nono dígito do CPF.\n",
    "### Exemplo de CPF: 000.000.002-00, no qual o dígito 2 apresenta o código do estado emissor.\n",
    "#### A tabela dos códidos estados emissores é a seguinte:\n",
    "\n",
    "##### 0 - Rio Grande do Sul;\n",
    "##### 1 - Distrito Federal, Goiás, Mato Grosso do Sul e Tocantins;\n",
    "##### 2 - Pará, Amazonas, Acre, Amapá, Rondônia e Roraima;\n",
    "##### 3 - Ceará, Maranhão e Piauí;\n",
    "##### 4 - Pernambuco, Rio Grande do Norte, Paraíba e Alagoas;\n",
    "##### 5 - Bahia e Sergipe;\n",
    "##### 6 - Minas Gerais;\n",
    "##### 7 - Rio de Janeiro e Espírito Santo;\n",
    "##### 8 - São Paulo;\n",
    "##### 9 - Paraná e Santa Catarina."
   ]
  },
  {
   "cell_type": "code",
   "execution_count": 15,
   "metadata": {},
   "outputs": [],
   "source": [
    "def estado_emissor(cpf):\n",
    "    \n",
    "    if cpf[8] == 0:\n",
    "        emissor = 'Rio Grande do Sul'\n",
    "\n",
    "    elif cpf[8] == 1:\n",
    "        emissor = 'Distrito Federal, Goiás, Mato Grosso do Sul ou Tocantins;'\n",
    "\n",
    "    elif cpf[8] == 2:\n",
    "        emissor = 'Pará, Amazonas, Acre, Amapá, Rondônia ou Roraima'\n",
    "\n",
    "    elif cpf[8] == 3:\n",
    "        emissor = 'Ceará, Maranhão ou Piauí'\n",
    "\n",
    "    elif cpf[8] == 4:\n",
    "        emissor = 'Pernambuco, Rio Grande do Norte, Paraíba ou Alagoas'\n",
    "\n",
    "    elif cpf[8] == 5:\n",
    "        emissor = 'Bahia ou Sergipe'\n",
    "\n",
    "    elif cpf[8] == 6:\n",
    "        emissor = 'Minas Gerais'\n",
    "\n",
    "    elif cpf[8] == 7:\n",
    "        emissor = 'Rio de Janeiro ou Espírito Santo'\n",
    "\n",
    "    elif cpf[8] == 8:\n",
    "        emissor = 'São Paulo'\n",
    "\n",
    "    elif cpf[8] == 9:\n",
    "        emissor = 'Paraná ou Santa Catarina'\n",
    "\n",
    "    else: \n",
    "        emissor = 'Error: Emissor do CPF desconhecido'\n",
    "    \n",
    "    return emissor"
   ]
  },
  {
   "cell_type": "code",
   "execution_count": 22,
   "metadata": {},
   "outputs": [],
   "source": [
    "def verificador_cpf(cpf):\n",
    "    \n",
    "    message = 'CPF inválido'\n",
    "    \n",
    "    cpf = (str_to_int(cpf))\n",
    "    \n",
    "    if ( verificador(cpf) ):       \n",
    "        message = ('CPF válido, tendo o seguinte estado emissor: ' + estado_emissor(cpf))\n",
    "    \n",
    "    return message"
   ]
  },
  {
   "cell_type": "markdown",
   "metadata": {},
   "source": [
    "# Main"
   ]
  },
  {
   "cell_type": "code",
   "execution_count": null,
   "metadata": {},
   "outputs": [],
   "source": [
    "cpf = (input('Digite o CPF que deseja verificar:'))\n",
    "\n",
    "print(verificador_cpf(cpf))"
   ]
  },
  {
   "cell_type": "code",
   "execution_count": null,
   "metadata": {},
   "outputs": [],
   "source": []
  }
 ],
 "metadata": {
  "kernelspec": {
   "display_name": "Python 3",
   "language": "python",
   "name": "python3"
  },
  "language_info": {
   "codemirror_mode": {
    "name": "ipython",
    "version": 3
   },
   "file_extension": ".py",
   "mimetype": "text/x-python",
   "name": "python",
   "nbconvert_exporter": "python",
   "pygments_lexer": "ipython3",
   "version": "3.7.1"
  }
 },
 "nbformat": 4,
 "nbformat_minor": 2
}
